{
 "cells": [
  {
   "cell_type": "code",
   "execution_count": 1,
   "id": "b26e31a3-631a-42a3-bd30-8a8665c63c00",
   "metadata": {},
   "outputs": [],
   "source": [
    "import pandas as pd\n",
    "import matplotlib.pyplot as plt"
   ]
  },
  {
   "cell_type": "code",
   "execution_count": 85,
   "id": "3328f193-cf05-430d-a1e9-176c3d5d41cc",
   "metadata": {},
   "outputs": [],
   "source": [
    "products = pd.read_csv('products.csv')\n",
    "stores = pd.read_csv('stores.csv')\n",
    "transactions = pd.read_csv('transactions.csv')"
   ]
  },
  {
   "cell_type": "code",
   "execution_count": 65,
   "id": "23ceeff1-99fc-477f-bca2-e21dd6cc73b8",
   "metadata": {},
   "outputs": [
    {
     "data": {
      "text/html": [
       "<div>\n",
       "<style scoped>\n",
       "    .dataframe tbody tr th:only-of-type {\n",
       "        vertical-align: middle;\n",
       "    }\n",
       "\n",
       "    .dataframe tbody tr th {\n",
       "        vertical-align: top;\n",
       "    }\n",
       "\n",
       "    .dataframe thead th {\n",
       "        text-align: right;\n",
       "    }\n",
       "</style>\n",
       "<table border=\"1\" class=\"dataframe\">\n",
       "  <thead>\n",
       "    <tr style=\"text-align: right;\">\n",
       "      <th></th>\n",
       "      <th>store_id</th>\n",
       "      <th>quantity</th>\n",
       "      <th>unit_price</th>\n",
       "      <th>margin</th>\n",
       "    </tr>\n",
       "  </thead>\n",
       "  <tbody>\n",
       "    <tr>\n",
       "      <th>count</th>\n",
       "      <td>850548.000000</td>\n",
       "      <td>850548.000000</td>\n",
       "      <td>850548.000000</td>\n",
       "      <td>850548.000000</td>\n",
       "    </tr>\n",
       "    <tr>\n",
       "      <th>mean</th>\n",
       "      <td>25.544719</td>\n",
       "      <td>2.212695</td>\n",
       "      <td>5.567772</td>\n",
       "      <td>0.379868</td>\n",
       "    </tr>\n",
       "    <tr>\n",
       "      <th>std</th>\n",
       "      <td>14.419042</td>\n",
       "      <td>1.080688</td>\n",
       "      <td>2.894693</td>\n",
       "      <td>0.081023</td>\n",
       "    </tr>\n",
       "    <tr>\n",
       "      <th>min</th>\n",
       "      <td>1.000000</td>\n",
       "      <td>1.000000</td>\n",
       "      <td>1.490000</td>\n",
       "      <td>0.250000</td>\n",
       "    </tr>\n",
       "    <tr>\n",
       "      <th>25%</th>\n",
       "      <td>13.000000</td>\n",
       "      <td>1.000000</td>\n",
       "      <td>3.680000</td>\n",
       "      <td>0.350000</td>\n",
       "    </tr>\n",
       "    <tr>\n",
       "      <th>50%</th>\n",
       "      <td>26.000000</td>\n",
       "      <td>2.000000</td>\n",
       "      <td>4.700000</td>\n",
       "      <td>0.350000</td>\n",
       "    </tr>\n",
       "    <tr>\n",
       "      <th>75%</th>\n",
       "      <td>38.000000</td>\n",
       "      <td>3.000000</td>\n",
       "      <td>6.550000</td>\n",
       "      <td>0.450000</td>\n",
       "    </tr>\n",
       "    <tr>\n",
       "      <th>max</th>\n",
       "      <td>50.000000</td>\n",
       "      <td>10.000000</td>\n",
       "      <td>20.030000</td>\n",
       "      <td>0.500000</td>\n",
       "    </tr>\n",
       "  </tbody>\n",
       "</table>\n",
       "</div>"
      ],
      "text/plain": [
       "            store_id       quantity     unit_price         margin\n",
       "count  850548.000000  850548.000000  850548.000000  850548.000000\n",
       "mean       25.544719       2.212695       5.567772       0.379868\n",
       "std        14.419042       1.080688       2.894693       0.081023\n",
       "min         1.000000       1.000000       1.490000       0.250000\n",
       "25%        13.000000       1.000000       3.680000       0.350000\n",
       "50%        26.000000       2.000000       4.700000       0.350000\n",
       "75%        38.000000       3.000000       6.550000       0.450000\n",
       "max        50.000000      10.000000      20.030000       0.500000"
      ]
     },
     "execution_count": 65,
     "metadata": {},
     "output_type": "execute_result"
    }
   ],
   "source": [
    "transactions.describe()"
   ]
  },
  {
   "cell_type": "code",
   "execution_count": 67,
   "id": "64366e16-087f-4cd3-9cce-fbaa2bf3ab41",
   "metadata": {},
   "outputs": [
    {
     "name": "stdout",
     "output_type": "stream",
     "text": [
      "<class 'pandas.core.frame.DataFrame'>\n",
      "RangeIndex: 850548 entries, 0 to 850547\n",
      "Data columns (total 9 columns):\n",
      " #   Column             Non-Null Count   Dtype  \n",
      "---  ------             --------------   -----  \n",
      " 0   transaction_id     850548 non-null  object \n",
      " 1   store_id           850548 non-null  int64  \n",
      " 2   date               850548 non-null  object \n",
      " 3   product_id         850548 non-null  object \n",
      " 4   category           850548 non-null  object \n",
      " 5   quantity           850548 non-null  int64  \n",
      " 6   unit_price         850548 non-null  float64\n",
      " 7   is_loyalty_member  850548 non-null  bool   \n",
      " 8   margin             850548 non-null  float64\n",
      "dtypes: bool(1), float64(2), int64(2), object(4)\n",
      "memory usage: 52.7+ MB\n"
     ]
    }
   ],
   "source": [
    "transactions.info()"
   ]
  },
  {
   "cell_type": "code",
   "execution_count": 69,
   "id": "f299b3de-d114-4a6c-b819-31765d02b1da",
   "metadata": {},
   "outputs": [
    {
     "data": {
      "text/html": [
       "<div>\n",
       "<style scoped>\n",
       "    .dataframe tbody tr th:only-of-type {\n",
       "        vertical-align: middle;\n",
       "    }\n",
       "\n",
       "    .dataframe tbody tr th {\n",
       "        vertical-align: top;\n",
       "    }\n",
       "\n",
       "    .dataframe thead th {\n",
       "        text-align: right;\n",
       "    }\n",
       "</style>\n",
       "<table border=\"1\" class=\"dataframe\">\n",
       "  <thead>\n",
       "    <tr style=\"text-align: right;\">\n",
       "      <th></th>\n",
       "      <th>transaction_id</th>\n",
       "      <th>store_id</th>\n",
       "      <th>date</th>\n",
       "      <th>product_id</th>\n",
       "      <th>category</th>\n",
       "      <th>quantity</th>\n",
       "      <th>unit_price</th>\n",
       "      <th>is_loyalty_member</th>\n",
       "      <th>margin</th>\n",
       "    </tr>\n",
       "  </thead>\n",
       "  <tbody>\n",
       "    <tr>\n",
       "      <th>0</th>\n",
       "      <td>T000001</td>\n",
       "      <td>13</td>\n",
       "      <td>2023-07-26 17:41:00</td>\n",
       "      <td>HOU_006</td>\n",
       "      <td>Household</td>\n",
       "      <td>2</td>\n",
       "      <td>6.75</td>\n",
       "      <td>True</td>\n",
       "      <td>0.45</td>\n",
       "    </tr>\n",
       "    <tr>\n",
       "      <th>1</th>\n",
       "      <td>T000001</td>\n",
       "      <td>13</td>\n",
       "      <td>2023-07-26 17:41:00</td>\n",
       "      <td>PER_028</td>\n",
       "      <td>Personal Care</td>\n",
       "      <td>1</td>\n",
       "      <td>8.59</td>\n",
       "      <td>True</td>\n",
       "      <td>0.50</td>\n",
       "    </tr>\n",
       "    <tr>\n",
       "      <th>2</th>\n",
       "      <td>T000001</td>\n",
       "      <td>13</td>\n",
       "      <td>2023-07-26 17:41:00</td>\n",
       "      <td>BEV_001</td>\n",
       "      <td>Beverages</td>\n",
       "      <td>1</td>\n",
       "      <td>3.59</td>\n",
       "      <td>True</td>\n",
       "      <td>0.50</td>\n",
       "    </tr>\n",
       "    <tr>\n",
       "      <th>3</th>\n",
       "      <td>T000001</td>\n",
       "      <td>13</td>\n",
       "      <td>2023-07-26 17:41:00</td>\n",
       "      <td>FRE_039</td>\n",
       "      <td>Fresh Produce</td>\n",
       "      <td>1</td>\n",
       "      <td>5.12</td>\n",
       "      <td>True</td>\n",
       "      <td>0.35</td>\n",
       "    </tr>\n",
       "    <tr>\n",
       "      <th>4</th>\n",
       "      <td>T000001</td>\n",
       "      <td>13</td>\n",
       "      <td>2023-07-26 17:41:00</td>\n",
       "      <td>FRO_037</td>\n",
       "      <td>Frozen Foods</td>\n",
       "      <td>3</td>\n",
       "      <td>5.70</td>\n",
       "      <td>True</td>\n",
       "      <td>0.40</td>\n",
       "    </tr>\n",
       "  </tbody>\n",
       "</table>\n",
       "</div>"
      ],
      "text/plain": [
       "  transaction_id  store_id                 date product_id       category  \\\n",
       "0        T000001        13  2023-07-26 17:41:00    HOU_006      Household   \n",
       "1        T000001        13  2023-07-26 17:41:00    PER_028  Personal Care   \n",
       "2        T000001        13  2023-07-26 17:41:00    BEV_001      Beverages   \n",
       "3        T000001        13  2023-07-26 17:41:00    FRE_039  Fresh Produce   \n",
       "4        T000001        13  2023-07-26 17:41:00    FRO_037   Frozen Foods   \n",
       "\n",
       "   quantity  unit_price  is_loyalty_member  margin  \n",
       "0         2        6.75               True    0.45  \n",
       "1         1        8.59               True    0.50  \n",
       "2         1        3.59               True    0.50  \n",
       "3         1        5.12               True    0.35  \n",
       "4         3        5.70               True    0.40  "
      ]
     },
     "execution_count": 69,
     "metadata": {},
     "output_type": "execute_result"
    }
   ],
   "source": [
    "transactions.head()"
   ]
  },
  {
   "cell_type": "code",
   "execution_count": 87,
   "id": "562fd6b8-2fb7-48da-83ca-dc37142c1c8a",
   "metadata": {
    "collapsed": true,
    "jupyter": {
     "outputs_hidden": true
    },
    "scrolled": true
   },
   "outputs": [
    {
     "name": "stderr",
     "output_type": "stream",
     "text": [
      "C:\\Users\\End User\\AppData\\Local\\Temp\\ipykernel_9420\\1971244998.py:1: UserWarning: Parsing dates in %Y-%m-%d %H:%M:%S format when dayfirst=True was specified. Pass `dayfirst=False` or specify a format to silence this warning.\n",
      "  transactions['date'] = pd.to_datetime(transactions['date'], dayfirst=True)\n"
     ]
    }
   ],
   "source": [
    "transactions['date'] = pd.to_datetime(transactions['date'], dayfirst=True)"
   ]
  },
  {
   "cell_type": "code",
   "execution_count": 89,
   "id": "8b056137-31f1-4d1b-92d1-884f9f4f56aa",
   "metadata": {},
   "outputs": [],
   "source": [
    "store_info = transactions.copy()"
   ]
  },
  {
   "cell_type": "code",
   "execution_count": 91,
   "id": "3e2fc0dc-171f-4904-a2f7-c68182467f2d",
   "metadata": {},
   "outputs": [],
   "source": [
    "store_info = store_info.merge(stores, on='store_id').merge(products, on='category')"
   ]
  },
  {
   "cell_type": "code",
   "execution_count": 93,
   "id": "aa7674b6-a12c-4ee2-b407-a7605c62e956",
   "metadata": {},
   "outputs": [],
   "source": [
    "store_info['total_price'] = store_info['quantity'] * store_info['unit_price']\n",
    "store_info['is_weekend'] = store_info['date'].dt.dayofweek > 4"
   ]
  },
  {
   "cell_type": "code",
   "execution_count": 95,
   "id": "fffb8280-339a-4a64-9249-161a0eb2d963",
   "metadata": {},
   "outputs": [
    {
     "name": "stdout",
     "output_type": "stream",
     "text": [
      "<class 'pandas.core.frame.DataFrame'>\n",
      "RangeIndex: 850548 entries, 0 to 850547\n",
      "Data columns (total 17 columns):\n",
      " #   Column             Non-Null Count   Dtype         \n",
      "---  ------             --------------   -----         \n",
      " 0   transaction_id     850548 non-null  object        \n",
      " 1   store_id           850548 non-null  int64         \n",
      " 2   date               850548 non-null  datetime64[ns]\n",
      " 3   product_id         850548 non-null  object        \n",
      " 4   category           850548 non-null  object        \n",
      " 5   quantity           850548 non-null  int64         \n",
      " 6   unit_price         850548 non-null  float64       \n",
      " 7   is_loyalty_member  850548 non-null  bool          \n",
      " 8   margin_x           850548 non-null  float64       \n",
      " 9   location_type      850548 non-null  object        \n",
      " 10  store_size         850548 non-null  object        \n",
      " 11  region             850548 non-null  object        \n",
      " 12  avg_price          850548 non-null  float64       \n",
      " 13  margin_y           850548 non-null  float64       \n",
      " 14  shelf_life_days    850548 non-null  int64         \n",
      " 15  total_price        850548 non-null  float64       \n",
      " 16  is_weekend         850548 non-null  bool          \n",
      "dtypes: bool(2), datetime64[ns](1), float64(5), int64(3), object(6)\n",
      "memory usage: 99.0+ MB\n"
     ]
    }
   ],
   "source": [
    "store_info.info()"
   ]
  },
  {
   "cell_type": "markdown",
   "id": "8dd644ed-c753-44d0-acdb-1e0a6b9a7f3b",
   "metadata": {},
   "source": [
    "# association rule mining"
   ]
  },
  {
   "cell_type": "code",
   "execution_count": 98,
   "id": "561dd473-8b3d-4c34-bd74-dd5fed5b647a",
   "metadata": {},
   "outputs": [
    {
     "name": "stderr",
     "output_type": "stream",
     "text": [
      "C:\\Users\\End User\\anaconda3\\Lib\\site-packages\\mlxtend\\frequent_patterns\\fpcommon.py:109: DeprecationWarning: DataFrames with non-bool types result in worse computationalperformance and their support might be discontinued in the future.Please use a DataFrame with bool type\n",
      "  warnings.warn(\n"
     ]
    },
    {
     "name": "stdout",
     "output_type": "stream",
     "text": [
      "          antecedents                                        consequents  \\\n",
      "0            (Bakery)                                        (Beverages)   \n",
      "1         (Beverages)                                           (Bakery)   \n",
      "2      (Canned Goods)                                           (Bakery)   \n",
      "3            (Bakery)                                     (Canned Goods)   \n",
      "4             (Dairy)                                           (Bakery)   \n",
      "...               ...                                                ...   \n",
      "7467           (Meat)  (Household, Personal Care, Fresh Produce, Snacks)   \n",
      "7468  (Personal Care)           (Meat, Household, Fresh Produce, Snacks)   \n",
      "7469  (Fresh Produce)           (Meat, Household, Personal Care, Snacks)   \n",
      "7470         (Snacks)    (Meat, Household, Personal Care, Fresh Produce)   \n",
      "7471      (Household)       (Meat, Personal Care, Fresh Produce, Snacks)   \n",
      "\n",
      "      antecedent support  consequent support   support  confidence      lift  \\\n",
      "0               0.347735            0.349895  0.162745    0.468014  1.337585   \n",
      "1               0.349895            0.347735  0.162745    0.465125  1.337585   \n",
      "2               0.347065            0.347735  0.161275    0.464682  1.336312   \n",
      "3               0.347735            0.347065  0.161275    0.463787  1.336312   \n",
      "4               0.644875            0.347735  0.228180    0.353836  1.017545   \n",
      "...                  ...                 ...       ...         ...       ...   \n",
      "7467            0.348515            0.077050  0.050490    0.144872  1.880231   \n",
      "7468            0.348395            0.077060  0.050490    0.144922  1.880635   \n",
      "7469            0.824390            0.057085  0.050490    0.061245  1.072879   \n",
      "7470            0.347485            0.076625  0.050490    0.145301  1.896264   \n",
      "7471            0.346475            0.077385  0.050490    0.145725  1.883114   \n",
      "\n",
      "      leverage  conviction  zhangs_metric  \n",
      "0     0.041074    1.222035       0.386935  \n",
      "1     0.041074    1.219472       0.388221  \n",
      "2     0.040588    1.218464       0.385447  \n",
      "3     0.040588    1.217679       0.385843  \n",
      "4     0.003934    1.009442       0.048553  \n",
      "...        ...         ...            ...  \n",
      "7467  0.023637    1.079312       0.718590  \n",
      "7468  0.023643    1.079363       0.718633  \n",
      "7469  0.003430    1.004432       0.386813  \n",
      "7470  0.023864    1.080351       0.724347  \n",
      "7471  0.023678    1.079997       0.717593  \n",
      "\n",
      "[7472 rows x 10 columns]\n"
     ]
    }
   ],
   "source": [
    "from mlxtend.frequent_patterns import apriori, association_rules\n",
    "\n",
    "basket = store_info.groupby(['transaction_id', 'category'])['quantity'].sum().unstack()\n",
    "basket = (basket > 0).astype(int)\n",
    "\n",
    "frequent_itemsets = apriori(basket, min_support=0.05, use_colnames=True)\n",
    "\n",
    "rules = association_rules(frequent_itemsets, metric=\"lift\", min_threshold=1.0)\n",
    "print(rules)"
   ]
  },
  {
   "cell_type": "code",
   "execution_count": null,
   "id": "9d76e706-c8f3-47f6-9f23-1e2aa163a5db",
   "metadata": {},
   "outputs": [],
   "source": []
  }
 ],
 "metadata": {
  "kernelspec": {
   "display_name": "Python 3 (ipykernel)",
   "language": "python",
   "name": "python3"
  },
  "language_info": {
   "codemirror_mode": {
    "name": "ipython",
    "version": 3
   },
   "file_extension": ".py",
   "mimetype": "text/x-python",
   "name": "python",
   "nbconvert_exporter": "python",
   "pygments_lexer": "ipython3",
   "version": "3.12.3"
  }
 },
 "nbformat": 4,
 "nbformat_minor": 5
}
